{
 "cells": [
  {
   "cell_type": "code",
   "execution_count": 1,
   "metadata": {},
   "outputs": [],
   "source": [
    "import numpy as np\n",
    "import pandas as pd\n",
    "import matplotlib.pyplot as plt\n",
    "import cv2\n",
    "import os"
   ]
  },
  {
   "cell_type": "code",
   "execution_count": 2,
   "metadata": {},
   "outputs": [],
   "source": [
    "def Load_Safe(data):\n",
    "    try:\n",
    "        lD = np.load(data).astype(float)\n",
    "        return lD\n",
    "    except:\n",
    "        np.set_printoptions(precision=3, suppress=True)\n",
    "        lD = np.load(data)\n",
    "        for i in range(len(lD)):\n",
    "            lD[i] = np.nan_to_num(np.genfromtxt(lD[i]))\n",
    "        return lD.astype(float)\n",
    "\n",
    "    \n",
    "def backread(im):\n",
    "    return cv2.imread(im)[:,:,::-1]\n",
    "\n",
    "edf = pd.read_pickle(\"edf.pkl\")\n",
    "pic = backread(\"connect4.png\")\n",
    "red = backread(\"red.png\")\n",
    "yellow = backread(\"yellow.png\")\n",
    "white = backread(\"white.png\")\n",
    "\n",
    "def synthetic(mat):\n",
    "    mpic = pic.copy()\n",
    "    for i in edf.index:\n",
    "        w = edf.loc[i]\n",
    "        x1,y1 = w['left']\n",
    "        f = w['f']\n",
    "        if mat[w['x'],w['y']] == 0:    \n",
    "            mpic[y1:y1+f,x1:x1+f] = white\n",
    "        elif mat[w['x'],w['y']] == 1:\n",
    "            mpic[y1:y1+f,x1:x1+f] = red\n",
    "        elif mat[w['x'],w['y']]== 2:\n",
    "            mpic[y1:y1+f,x1:x1+f] = yellow\n",
    "        else:\n",
    "            mpic[y1:y1+f,x1:x1+f] = 0\n",
    "    return mpic\n",
    "def print_board(board):\n",
    "    f,ax = plt.subplots(figsize = (6,6))\n",
    "    plt.imshow(synthetic(board))\n",
    "    plt.show()"
   ]
  },
  {
   "cell_type": "code",
   "execution_count": 3,
   "metadata": {},
   "outputs": [],
   "source": [
    "floating_piece = Load_Safe(\"Examples/floating_piece.npy\")\n",
    "proportion = Load_Safe(\"Examples/invalid_proportion.npy\")\n",
    "rednext = Load_Safe(\"Examples/redisnext.npy\")\n",
    "yellownext = Load_Safe(\"Examples/yellownext.npy\")\n",
    "nonnum = np.load(\"Examples/Corrupt.npy\")\n",
    "outof = np.load(\"Examples/Corrupt_.npy\")\n",
    "redwins = Load_Safe(\"Examples/redwins.npy\")\n",
    "yellowwins = Load_Safe(\"Examples/yellowwins.npy\")"
   ]
  },
  {
   "cell_type": "markdown",
   "metadata": {},
   "source": [
    "<span style=\"font-family:Georgia; font-size:1.2em;\">\n",
    "Your End Goals is too classify  all files that are in the \"Data\" folder. To help you build a Classifier, we have created some helper functions. You can make your own, but if you want to use our you will have to complete the functions and create an aggregate classifier at the end.\n",
    "</span>"
   ]
  },
  {
   "cell_type": "code",
   "execution_count": 4,
   "metadata": {},
   "outputs": [],
   "source": [
    "\"\"\"\n",
    "Create a function isCorrupt that classifies any board that does that has non \n",
    "numeric values or values that are not in range as corrupt i.e N not in (0,1,2).\n",
    "\"\"\"\n",
    "def isCorrupt(board):\n",
    "    pass"
   ]
  },
  {
   "cell_type": "markdown",
   "metadata": {},
   "source": [
    "<span style=\"font-family:Georgia; font-size:1.2em;\">\n",
    "Expected results, when you run isCorrupt on nonum and outof, it should return Corrupt, but it shouldn't when you enter yellow wins.\n",
    "</span>"
   ]
  },
  {
   "cell_type": "code",
   "execution_count": 5,
   "metadata": {},
   "outputs": [],
   "source": [
    "isCorrupt(nonnum)"
   ]
  },
  {
   "cell_type": "code",
   "execution_count": 6,
   "metadata": {},
   "outputs": [],
   "source": [
    "isCorrupt(outof)"
   ]
  },
  {
   "cell_type": "code",
   "execution_count": 7,
   "metadata": {},
   "outputs": [],
   "source": [
    "isCorrupt(yellowwins)"
   ]
  },
  {
   "cell_type": "code",
   "execution_count": 8,
   "metadata": {},
   "outputs": [],
   "source": [
    "def Isfloating(board):\n",
    "    board = np.flip(board)\n",
    "    for i in range(len(board)):\n",
    "        if i < len(board)-2:\n",
    "            for j in np.where(board[i] == 0)[0]:\n",
    "                #-------------------------------------------------------------------------------------\n",
    "                \"\"\"\n",
    "                Complete the code below\n",
    "                The Function should return True if such a condition exists refer to part 1 \n",
    "                \"\"\"\n",
    "                #Your Code Goes Here\n",
    "                #-------------------------------------------------------------------------------------\n",
    "    return False"
   ]
  },
  {
   "cell_type": "markdown",
   "metadata": {},
   "source": [
    "<span style=\"font-family:Georgia; font-size:1.2em;\">\n",
    "Expected results, when you run isfloating on floating piece, it should return True, but it shouldn't when you enter proportion.\n",
    "</span>"
   ]
  },
  {
   "cell_type": "code",
   "execution_count": 9,
   "metadata": {},
   "outputs": [
    {
     "data": {
      "text/plain": [
       "False"
      ]
     },
     "execution_count": 9,
     "metadata": {},
     "output_type": "execute_result"
    }
   ],
   "source": [
    "Isfloating(floating_piece)"
   ]
  },
  {
   "cell_type": "code",
   "execution_count": 10,
   "metadata": {},
   "outputs": [
    {
     "data": {
      "text/plain": [
       "False"
      ]
     },
     "execution_count": 10,
     "metadata": {},
     "output_type": "execute_result"
    }
   ],
   "source": [
    "Isfloating(proportion)"
   ]
  },
  {
   "cell_type": "code",
   "execution_count": 11,
   "metadata": {},
   "outputs": [],
   "source": [
    "def IsProportional(board):\n",
    "    red_pieces = len(board[np.where(board == 1)])\n",
    "    #-------------------------------------------------------------------------------------\n",
    "    \"\"\"\n",
    "    Insert code that counts the number of Yellow pieces\n",
    "    \"\"\"\n",
    "    # Your Code Goes Here\n",
    "    #yellow_pieces = \n",
    "    \n",
    "    \n",
    "    #-------------------------------------------------------------------------------------\n",
    "    \n",
    "    #Condition: if there the difference between the counts is more than 2, return false\n",
    "    \"\"\"\n",
    "    Write code to check 1st condition\n",
    "    \"\"\"\n",
    "    # Your Code Goes Here\n",
    "    #if \n",
    "        #return False\n",
    "        \n",
    "    #-------------------------------------------------------------------------------------\n",
    "    \n",
    "    \n",
    "    \n",
    "    \"\"\"\n",
    "    Remove the comments from the code below once you complete the part above\n",
    "    \"\"\"\n",
    "    #Condition: As red always starts, yellow count can never exceeed red count\n",
    "    #elif yellow_pieces > red_pieces:\n",
    "    #    return False"
   ]
  },
  {
   "cell_type": "code",
   "execution_count": 12,
   "metadata": {},
   "outputs": [],
   "source": [
    "IsProportional(proportion)"
   ]
  },
  {
   "cell_type": "code",
   "execution_count": 13,
   "metadata": {},
   "outputs": [],
   "source": [
    "def WhosTurn(board):\n",
    "    \"\"\"\n",
    "    Write code to output whos turn is it based on the board\n",
    "    \n",
    "    Logic: If there are equal pieces, than its reds turn, if red has more pieces its reds turn\n",
    "    \n",
    "    Also if the board is empty its Reds turn\n",
    "    \n",
    "    \"\"\"\n",
    "    red_pieces = len(board[np.where(board == 1)])\n",
    "    \"\"\"\n",
    "    Insert code that counts the number of Yellow pieces\n",
    "    \"\"\"\n",
    "    # Your Code Goes Here\n",
    "    #yellow_pieces = \n",
    "    \n",
    "    \n",
    "    #-------------------------------------------------------------------------------------\n",
    "    \n",
    "    \"\"\"\n",
    "    Write code that executes the logic described above\n",
    "    \n",
    "    \"\"\"\n",
    "    \n",
    "    # Your Code Goes Here\n",
    "    "
   ]
  },
  {
   "cell_type": "code",
   "execution_count": 14,
   "metadata": {},
   "outputs": [],
   "source": [
    "WhosTurn(rednext)"
   ]
  },
  {
   "cell_type": "code",
   "execution_count": 15,
   "metadata": {},
   "outputs": [],
   "source": [
    "WhosTurn(yellownext)"
   ]
  },
  {
   "cell_type": "code",
   "execution_count": 16,
   "metadata": {},
   "outputs": [],
   "source": [
    "def check_win(board, piece):\n",
    "    \n",
    "    board = np.flip(board)\n",
    "    ROW_COUNT = 6\n",
    "    COLUMN_COUNT = 7\n",
    "    \n",
    "    #-------------------------------------------------------------------------------------\n",
    "    # Check horizontal locations for win\n",
    "    for c in range(COLUMN_COUNT-3):\n",
    "        for r in range(ROW_COUNT):\n",
    "            if board[r][c] == piece and board[r][c+1] == piece and board[r][c+2] == piece and board[r][c+3] == piece:\n",
    "                return True\n",
    "     \n",
    "    \n",
    "    \n",
    "    \n",
    "    #-------------------------------------------------------------------------------------\n",
    "    \"\"\"\n",
    "    Write the code to see if any game was won, with respect to each column\n",
    "    \"\"\"\n",
    "    # Check vertical locations for win\n",
    "            \n",
    "     \n",
    "    #Your Code Goes Here\n",
    "    \n",
    "    \n",
    "            \n",
    "    #-------------------------------------------------------------------------------------\n",
    "    \"\"\"\n",
    "    Remove the comments once you have finished the code above. The code below return true if the game is won\n",
    "    by a player 'piece' = (1,2); wiht 4 in a row connected diaganolly. Use the same method to complete the \n",
    "    functions that are above.\n",
    "    \n",
    "    # Check positively sloped diaganols\n",
    "    for c in range(COLUMN_COUNT-3):\n",
    "        for r in range(ROW_COUNT-3):\n",
    "            if board[r][c] == piece and board[r+1][c+1] == piece and board[r+2][c+2] == piece and board[r+3][c+3] == piece:\n",
    "                return True\n",
    "                \n",
    "                \n",
    "    # Check negatively sloped diaganols\n",
    "    for c in range(COLUMN_COUNT-3):\n",
    "        for r in range(3, ROW_COUNT):\n",
    "            if board[r][c] == piece and board[r-1][c+1] == piece and board[r-2][c+2] == piece and board[r-3][c+3] == piece:\n",
    "                return True\n",
    "    \"\"\"\n",
    "            "
   ]
  },
  {
   "cell_type": "code",
   "execution_count": 17,
   "metadata": {},
   "outputs": [
    {
     "data": {
      "text/plain": [
       "True"
      ]
     },
     "execution_count": 17,
     "metadata": {},
     "output_type": "execute_result"
    }
   ],
   "source": [
    "check_win(redwins,1)"
   ]
  },
  {
   "cell_type": "code",
   "execution_count": 18,
   "metadata": {},
   "outputs": [],
   "source": [
    "check_win(yellowwins,2)"
   ]
  },
  {
   "cell_type": "markdown",
   "metadata": {},
   "source": [
    "<span style=\"font-family:Georgia; font-size:1.2em;\">\n",
    "Q) Complete the function Classifier.\n",
    "<br/>\n",
    "Your Goals is to read all board matrices from the Data folder. A file called Test.csv is also present, make sure when you read each file from your directory, it is read in the order of the csv file. Then use the classifier to classify each loaded file into the following states.\n",
    "<br/>\n",
    "\n",
    "\n",
    "|   |   |\n",
    "|---|---|\n",
    "|Description  |   State|\n",
    "|Invalid  |   1|\n",
    "|Reds Turn  |   2|\n",
    "|Yellows Turn  |   3|\n",
    "|Red Wins  |   4|\n",
    "|Yellow Wins  |   5|\n",
    "|Corrupt ata |   6|\n",
    "\n",
    "<br/>\n",
    "<br/>\n",
    "Please refer to the examples provided in part 1 of the notebook to understand the classification process. <b>Warning! The Numeric state values may not match, please use the numeric values provided in the table above</b>\n",
    "<br/>\n",
    "<br/>\n",
    "Replace the state values and with your predicted classes. Then upload the csv file to Kaggle. The link will provided with the assignment.\n",
    "</span>"
   ]
  },
  {
   "cell_type": "code",
   "execution_count": 19,
   "metadata": {},
   "outputs": [],
   "source": [
    "test = pd.read_csv(\"Test.csv\")"
   ]
  },
  {
   "cell_type": "markdown",
   "metadata": {},
   "source": [
    "<span style=\"font-family:Georgia; font-size:1.2em;\">\n",
    "Hint: use the functions above and if then conditions to sequentialy check what 'state' it falls in and output the corresponding numeric value from the table above. <b> The Order of the if then conditions matter, so be careful</b>\n",
    "</span>"
   ]
  },
  {
   "cell_type": "code",
   "execution_count": 20,
   "metadata": {},
   "outputs": [],
   "source": [
    "def classifier(B):\n",
    "    \"\"\"\n",
    "    Build a classifier\n",
    "    \"\"\""
   ]
  },
  {
   "cell_type": "markdown",
   "metadata": {},
   "source": [
    "<span style=\"font-family:Georgia; font-size:1.2em;\">\n",
    "The section below will automatically execute the classifier function.\n",
    "</span>"
   ]
  },
  {
   "cell_type": "code",
   "execution_count": 21,
   "metadata": {},
   "outputs": [],
   "source": [
    "Name = None # Replace None with your name"
   ]
  },
  {
   "cell_type": "code",
   "execution_count": 22,
   "metadata": {},
   "outputs": [
    {
     "ename": "NameError",
     "evalue": "name 'Answers' is not defined",
     "output_type": "error",
     "traceback": [
      "\u001b[0;31m---------------------------------------------------------------------------\u001b[0m",
      "\u001b[0;31mNameError\u001b[0m                                 Traceback (most recent call last)",
      "\u001b[0;32m<ipython-input-22-0d243a375760>\u001b[0m in \u001b[0;36m<module>\u001b[0;34m\u001b[0m\n\u001b[1;32m      4\u001b[0m     \u001b[0manswers\u001b[0m\u001b[0;34m.\u001b[0m\u001b[0mappend\u001b[0m\u001b[0;34m(\u001b[0m\u001b[0mclassifier\u001b[0m\u001b[0;34m(\u001b[0m\u001b[0mboard\u001b[0m\u001b[0;34m)\u001b[0m\u001b[0;34m)\u001b[0m\u001b[0;34m\u001b[0m\u001b[0;34m\u001b[0m\u001b[0m\n\u001b[1;32m      5\u001b[0m \u001b[0;34m\u001b[0m\u001b[0m\n\u001b[0;32m----> 6\u001b[0;31m \u001b[0mtest\u001b[0m\u001b[0;34m.\u001b[0m\u001b[0mstate\u001b[0m \u001b[0;34m=\u001b[0m \u001b[0mAnswers\u001b[0m\u001b[0;34m\u001b[0m\u001b[0;34m\u001b[0m\u001b[0m\n\u001b[0m\u001b[1;32m      7\u001b[0m \u001b[0mtest\u001b[0m\u001b[0;34m.\u001b[0m\u001b[0mto_csv\u001b[0m\u001b[0;34m(\u001b[0m\u001b[0mstr\u001b[0m\u001b[0;34m(\u001b[0m\u001b[0mName\u001b[0m\u001b[0;34m)\u001b[0m\u001b[0;34m+\u001b[0m\u001b[0;34m\"_Submission.csv\"\u001b[0m\u001b[0;34m,\u001b[0m\u001b[0mindex\u001b[0m \u001b[0;34m=\u001b[0m \u001b[0;32mFalse\u001b[0m\u001b[0;34m)\u001b[0m\u001b[0;34m\u001b[0m\u001b[0;34m\u001b[0m\u001b[0m\n",
      "\u001b[0;31mNameError\u001b[0m: name 'Answers' is not defined"
     ]
    }
   ],
   "source": [
    "answers = []\n",
    "for i in test.file_names:\n",
    "    board = np.load(\"Data/\"+i)\n",
    "    answers.append(classifier(board))\n",
    "\n",
    "test.state = Answers\n",
    "test.to_csv(str(Name)+\"_Submission.csv\",index = False)"
   ]
  },
  {
   "cell_type": "code",
   "execution_count": null,
   "metadata": {},
   "outputs": [],
   "source": []
  }
 ],
 "metadata": {
  "kernelspec": {
   "display_name": "Python 3",
   "language": "python",
   "name": "python3"
  },
  "language_info": {
   "codemirror_mode": {
    "name": "ipython",
    "version": 3
   },
   "file_extension": ".py",
   "mimetype": "text/x-python",
   "name": "python",
   "nbconvert_exporter": "python",
   "pygments_lexer": "ipython3",
   "version": "3.7.4"
  }
 },
 "nbformat": 4,
 "nbformat_minor": 2
}
